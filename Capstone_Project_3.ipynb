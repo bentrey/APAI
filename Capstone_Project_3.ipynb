{
 "cells": [
  {
   "cell_type": "markdown",
   "metadata": {},
   "source": [
    "<p>Ben Trey<br>\n",
    "Project: Capstone Project 1: Exploratory Data Analysis<br>\n",
    "Data Science Track<br>\n",
    "2020/10/15<br>\n",
    "</p>"
   ]
  },
  {
   "cell_type": "markdown",
   "metadata": {},
   "source": [
    "<h1>Simulation Code</h1>"
   ]
  },
  {
   "cell_type": "code",
   "execution_count": 139,
   "metadata": {},
   "outputs": [],
   "source": [
    "import numpy as np\n",
    "import pandas as pd\n",
    "import matplotlib.pyplot as plt\n",
    "import math\n",
    "import random\n",
    "import sys\n",
    "import warnings\n",
    "import pickle\n",
    "from tqdm import tqdm_notebook as tqdm\n",
    "from sklearn.model_selection import train_test_split\n",
    "from sklearn.linear_model import LogisticRegression\n",
    "from sklearn.metrics import accuracy_score\n",
    "from sklearn.ensemble import RandomForestRegressor\n",
    "from sklearn.naive_bayes import MultinomialNB\n",
    "\n",
    "#Global variables\n",
    "directory = 'C:/Users/我的电脑/Desktop/APAI'\n",
    "df_problems = pd.read_csv(directory+'/problem_data.csv')\n",
    "num_of_problems = df_problems.count()['id']\n",
    "normalizations = {}\n",
    "\n",
    "warnings.filterwarnings('ignore')"
   ]
  },
  {
   "cell_type": "markdown",
   "metadata": {},
   "source": [
    "<h1>Classes</h1>"
   ]
  },
  {
   "cell_type": "code",
   "execution_count": 116,
   "metadata": {},
   "outputs": [],
   "source": [
    "#Student will simulate a students performance \n",
    "class Student:\n",
    "    def __init__(self, email):\n",
    "        #ability represents a student's baseline math skills\n",
    "        #intelligence represents a student's potential for growth\n",
    "        #motivation represents a student's motivation for growth \n",
    "        #consistency represents a student's consistency in performance\n",
    "        self.email = email\n",
    "        school_quality = np.random.random()\n",
    "        self.ability = school_quality - 1.0 + 2.0*np.random.random()\n",
    "        self.intelligence = school_quality - 1.0 + 2.0*np.random.random()\n",
    "        self.motivation = school_quality - 1.0 + 2.0*np.random.random()\n",
    "        self.consistency = school_quality - 1.0 + 2.0*np.random.random()\n",
    "        self.frustration = 0\n",
    "        self.topics = {}\n",
    "        self.units = {}\n",
    "        \n",
    "    #problemUpdate updates the student's math ability after a correct problem    \n",
    "    def problem_update(self, correct, problem):\n",
    "        unit = str(problem.unit)\n",
    "        topic = unit+'.'+str(problem.topic)\n",
    "        difficulty = problem.difficulty\n",
    "        if not topic in self.topics.keys():\n",
    "            self.topics[str(topic)]=-1.0+2.0*np.random.random()\n",
    "        if not unit in self.units.keys():\n",
    "            self.topics[str(unit)]=-1.0+2.0*np.random.random()\n",
    "        if correct:\n",
    "            #increase intelligence with a certain probability\n",
    "            #increase consistency with a certain probability\n",
    "            #increase motivation with a certain probability\n",
    "            if np.exp(self.ability) / (1+np.exp(self.ability)) > np.random.random():\n",
    "                self.ability = self.ability + difficulty/300.0\n",
    "            if np.exp(self.intelligence) / (1+np.exp(self.intelligence)) > np.random.random():\n",
    "                self.intelligence = self.intelligence + difficulty/3000.0\n",
    "            if np.exp(self.consistency)/(1+np.exp(self.consistency)) > np.random.random():\n",
    "                self.consistency = self.consistency + difficulty/3000.0\n",
    "            if np.exp(self.motivation)/(1+np.exp(self.motivation)) > np.random.random():\n",
    "                self.motivation = self.motivation + difficulty/300.0\n",
    "            if np.exp(self.topics[topic])/(1+np.exp(self.topics[topic])) >np.random.random():\n",
    "                self.topics[topic] = self.topics[topic]+difficulty/300.0\n",
    "            if np.exp(self.units[unit])/(1+np.exp(self.units[unit])) >np.random.random():\n",
    "                self.units[unit] = self.units[unit]+difficulty/300.0\n",
    "            if np.exp(self.frustration)/(1+np.exp(self.frustration)) < np.random.random():\n",
    "                self.frustration = self.frustration - difficulty/10.0\n",
    "        else:\n",
    "            #decrease ability with a certain probability\n",
    "            #decrease intelligence with a certain probability\n",
    "            #decrease consistency with a certain probability\n",
    "            #decrease motivation with a certain probability\n",
    "            if np.exp(self.ability)/(1+np.exp(self.ability)) < np.random.random():\n",
    "                self.math_ability = self.ability - difficulty/ 300.0\n",
    "            if np.exp(self.intelligence)/(1+np.exp(self.intelligence)) < np.random.random():\n",
    "                self.intelligence = self.intelligence - difficulty/3000.0\n",
    "            if np.exp(self.consistency)/(1+np.exp(self.consistency)) < np.random.random():\n",
    "                self.consistency = self.consistency - difficulty/3000.0\n",
    "            if np.exp(self.motivation)/(1+np.exp(self.motivation)) < np.random.random():\n",
    "                self.motivation = self.motivation - difficulty/300.0\n",
    "            if np.exp(self.topics[topic])/(1+np.exp(self.topics[topic])) < np.random.random():\n",
    "                self.topics[topic] = self.topics[topic] - difficulty/300.0\n",
    "            if np.exp(self.units[unit])/(1+np.exp(self.units[unit])) < np.random.random():\n",
    "                self.units[unit] = self.units[unit] - difficulty/300.0\n",
    "            if np.exp(self.frustration)/(1+np.exp(self.frustration)) > np.random.random():\n",
    "                self.frustration = self.frustration + difficulty/10.0\n",
    "        \n",
    "    def will_continue(self, time):\n",
    "        return self.motivation*150.0/time > (np.random.random()*logistic(self.frustration))**(0.5)\n",
    "\n",
    "    def answer_problem(self, problem):\n",
    "        if not problem.topic in self.topics.keys():\n",
    "            self.topics[str(problem.topic)]=-1.0+2.0*np.random.random()\n",
    "            if np.exp(self.frustration)/(1+np.exp(self.frustration)) > np.random.random():\n",
    "                self.frustration = self.frustration + 1/10.0\n",
    "        if not problem.unit in self.units.keys():\n",
    "            self.units[str(problem.unit)]=-1.0+2.0*np.random.random()\n",
    "        return (self.units[problem.unit]*self.topics[problem.topic]*self.ability*self.intelligence)**0.25 \\\n",
    "                > (np.random.random()*problem.difficulty)**0.5\n",
    "            \n",
    "        \n",
    "#Problem simulates a problem\n",
    "class Problem:\n",
    "    def __init__(self, unit, topic, difficulty):\n",
    "        self.unit = str(unit)\n",
    "        self.topic = str(topic)\n",
    "        self.difficulty = difficulty\n",
    "\n",
    "#Student_Profile holds the students info seperately from their attributes \n",
    "class Student_Profile:\n",
    "    def __init__(self, real_name, user_name, password, email):\n",
    "        self.number_correct = 0\n",
    "        self.scores = {}\n",
    "        self.real_name = real_name\n",
    "        self.user_name = user_name\n",
    "        self.password = password\n",
    "        self.email = email\n",
    "\n",
    "#user_name_creator makes the user names for the students\n",
    "def user_name_creator():\n",
    "    pre=['dank', 'snarky', 'lunar', 'fiesty', 'fruity', 'spicy', 'spikey', 'slippery', 'sleepy', \\\n",
    "        'spooky', 'blinking', 'burping', 'sugary', 'dark', 'dinky', 'droopy', 'blind', 'hairy', \\\n",
    "        'hip', 'lame', 'fiery']\n",
    "    fix=['tiger', 'shark', 'wheels', 'nightmare', 'guitar', 'pants', 'cat', 'blinker', 'bum', \\\n",
    "        'bacon', 'stinker', 'stripe', 'horse', 'monkey', 'popeye', 'eyes', 'moves', 'figher', \\\n",
    "        'liner', 'drifter', 'docker']\n",
    "    return np.random.choice(pre) + np.random.choice(fix) + str(np.random.randint(1,1000))\n",
    "\n",
    "#password_creator makes a password\n",
    "def password_creator():\n",
    "    chars = 'abcdefghijklmnopqrstuvwxyzABCDEFGHIJKLMNOPQRSTUVWXYZ1234567890!@#$%^&*'\n",
    "    password = ''\n",
    "    while len(password) < 10:\n",
    "        password += chars[np.random.randint(0,len(chars)-1)]\n",
    "    return password\n",
    "\n",
    "#real_name_creator makes a real name\n",
    "def real_name_creator():\n",
    "    first = ['Abe', 'Michael', 'Blanche', 'Bobby', 'Johnny', 'Ryan', 'Jasmine', 'Sarah', 'Jenny', \\\n",
    "        'Josey', 'Eva', 'Wendy', 'Kelly', 'Wayne', 'Larry', 'Cindy', 'Sunny', 'Yolanda', 'Coco', \\\n",
    "        'Helen', 'Barette', 'Judy', 'Teddy', 'Frank', 'Victor', 'Yvonne', 'Howard', 'Richard', \\\n",
    "        'Angel', 'Harry', 'Sammy', 'Alex', 'Albert', 'David', 'Lester', 'Maddy', 'Patrick', \\\n",
    "        'Holly', 'Dan', 'Matt', 'Violet', 'Skylar', 'Patricia', 'Oscar', 'Edgar', 'Owen', 'Eric', \\\n",
    "        'Grace', 'Amy', 'Otto', 'Gunther', 'Franz', 'Lina', 'Nora','Angela', 'Olivia','Oliver']\n",
    "    last = ['Zhang', 'Zhu', 'Ma', 'Xu', 'Wang', 'Liu', 'Li', 'Lin', 'Smith', 'Jones', 'Jackson', \\\n",
    "        'James', 'Johnson', 'Oneal', 'Riley', 'Maxwell', 'Baker', 'Lenz', 'Goldstein', 'Feldman', \\\n",
    "        'Rothschild', 'Kruger', 'Lowenstein', 'Young', 'Parker', 'Morgan', 'Barker', 'Dunn', \\\n",
    "        'Bradley' 'Woods', 'Jordan', 'McGrady', 'Austin', 'Hogan', 'McGuiness', 'Park']\n",
    "    return np.random.choice(first) + ' ' + np.random.choice(last)\n",
    "\n",
    "#email_creator creates an email\n",
    "def email_creator():\n",
    "    pre = ['dirty', 'milky', 'fishy', 'slimy', 'used', 'old', 'tired', 'slightly', 'mostly', \\\n",
    "        'found', 'lost', 'new', 'freshy', 'daily', 'buried', 'acient', 'retired', 'deep', 'moist', \\\n",
    "        'dry', 'hot', 'cold', 'folding', 'extra', 'replacement', 'clamy', 'soiled']\n",
    "    fix = ['bread', 'beans', 'bike', 'tire', 'blanket', 'rug', 'window', 'chrysler', 'jeep', \\\n",
    "        'sub', 'drum', 'snake', 'shoes', 'shirt', 'hat', 'jug', 'shack', 'tide', 'spice', 'cola', \\\n",
    "        'cup', 'skates']\n",
    "    provider = ['yahoo.com', 'gmail.com', 'outlook.com', 'qq.com', '163.com']\n",
    "    return np.random.choice(pre) + np.random.choice(fix) + str(np.random.randint(1,1000)) + '@' \\\n",
    "        + np.random.choice(provider)"
   ]
  },
  {
   "cell_type": "markdown",
   "metadata": {},
   "source": [
    "<h1>Distributions</h1>"
   ]
  },
  {
   "cell_type": "code",
   "execution_count": 117,
   "metadata": {},
   "outputs": [],
   "source": [
    "def problem_index_getter(number_correct):\n",
    "    if number_correct == 0:\n",
    "        return 0\n",
    "    if normalizations.get(number_correct,0) == 0:\n",
    "        sum = 0\n",
    "        for problem in range(number_correct):\n",
    "            sum += 0.05 + np.exp(-(problem+1-number_correct)**2/2)/(2*np.pi)**0.5\n",
    "        normalizations[number_correct] = sum\n",
    "    normalization = normalizations[number_correct]\n",
    "    sum = 0\n",
    "    random_value = np.random.random()\n",
    "    for problem in range(num_of_problems):\n",
    "        sum += 0.1 + np.exp(-(problem-number_correct)**2/2)/(2*np.pi)**0.5\n",
    "        if random_value < sum:\n",
    "            return problem "
   ]
  },
  {
   "cell_type": "markdown",
   "metadata": {},
   "source": [
    "<h1>Helper Functions</h1>"
   ]
  },
  {
   "cell_type": "code",
   "execution_count": 118,
   "metadata": {},
   "outputs": [],
   "source": [
    "#standard logistic function\n",
    "def logistic(value):\n",
    "    return 1/(1+np.exp(-value))"
   ]
  },
  {
   "cell_type": "markdown",
   "metadata": {},
   "source": [
    "<h1>Simulations</h1>"
   ]
  },
  {
   "cell_type": "code",
   "execution_count": 146,
   "metadata": {},
   "outputs": [],
   "source": [
    "def data_maker():\n",
    "    data_lines = ['number_correct_lifetime,number_attempted_this_session,topic_ratio,number_in_topic,difficulty,time,will_continue']\n",
    "    tries = []\n",
    "    #make problems\n",
    "    problems = {}\n",
    "    problem_keys = []\n",
    "    df_problems = pd.read_csv(directory+'/problem_data.csv')\n",
    "    for index, row in df_problems.iterrows():\n",
    "        problem_id = df_problems.iloc[index][0]\n",
    "        unit = df_problems.iloc[index][1]\n",
    "        topic = df_problems.iloc[index][2]\n",
    "        difficulty = df_problems.iloc[index][3]/2\n",
    "        problems[(unit,topic,problem_id)] = Problem(unit,topic,difficulty)\n",
    "        problem_keys.append((unit,topic,problem_id))\n",
    "    problem_keys.sort()\n",
    "    #make students\n",
    "    num_of_students = 1000\n",
    "    students = {}\n",
    "    student_profiles = {}\n",
    "    while len(students) < num_of_students:\n",
    "        email = email_creator()\n",
    "        user_name = user_name_creator()\n",
    "        real_name = real_name_creator()\n",
    "        password = password_creator()\n",
    "        if not email in students.keys():\n",
    "            students[email] = Student(email)\n",
    "            student_profiles[email] = Student_Profile(real_name, user_name, password, email)\n",
    "    #simulate sessions\n",
    "    num_of_sessions = 5000\n",
    "    for session in tqdm(range(num_of_sessions)):\n",
    "        email = np.random.choice(list(students.keys()))\n",
    "        number_correct = student_profiles[email].number_correct\n",
    "        time = 0\n",
    "        students[email].frustration = 0\n",
    "        will_continue = True\n",
    "        number_attempted_this_session = 0\n",
    "        while will_continue:\n",
    "            number_attempted_this_session += 1\n",
    "            problem_index = np.random.randint(0,num_of_problems)\n",
    "            unit = str(problem_keys[problem_index][0])\n",
    "            key = str(problem_keys[problem_index][0])+'.'+str(problem_keys[problem_index][1])\n",
    "            problem_id = problem_keys[problem_index][2]\n",
    "            if not key in student_profiles[email].scores.keys():\n",
    "                student_profiles[email].scores[key] = [0,0]\n",
    "            correct = students[email].answer_problem(problems[problem_keys[problem_index]])\n",
    "            student_profiles[email].scores[key][0] += 1\n",
    "            student_profiles[email].scores[key][1] += int(correct)\n",
    "            student_profiles[email].number_correct += int(correct)\n",
    "            students[email].problem_update(correct,problems[problem_keys[problem_index]])\n",
    "            problems[problem_keys[problem_index]].difficulty = problems[problem_keys[problem_index]].difficulty\\\n",
    "                        *999/1000 - int(correct)/1000\n",
    "            time += 60+20*(logistic(students[email].intelligence)*logistic(students[email].motivation))**0.5\n",
    "            will_continue = students[email].will_continue(time)\n",
    "            data_line = str(student_profiles[email].number_correct)+','+str(number_attempted_this_session)+','\\\n",
    "                        +str(student_profiles[email].scores[key][1]/student_profiles[email].scores[key][0])+','\\\n",
    "                        +str(student_profiles[email].scores[key][0])+','\\\n",
    "                        +str(problems[problem_keys[problem_index]].difficulty)+','+str(time)+','+str(int(will_continue))\n",
    "            data_lines.append(data_line)\n",
    "        tries.append(str(number_attempted_this_session))\n",
    "    file = open(directory+'/experiment.csv','w+')\n",
    "    file.write('\\n'.join(data_lines))\n",
    "    file.close()\n",
    "    file = open(directory+'/tries.csv','w+')\n",
    "    file.write('\\n'.join(tries))\n",
    "    file.close()\n",
    "            \n",
    "            \n",
    "    #number_correct_lifetime, number_attempted_this_session,topic_ratio,number_in_topic, difficulty\n",
    " \n",
    "\n",
    "\n",
    "def simulation():\n",
    "    #train model\n",
    "    df_experiment = pd.read_csv(directory+'/experiment.csv')\n",
    "    # Split the data into a training and test set.\n",
    "    Xlr, Xtestlr, ylr, ytestlr = train_test_split(df_experiment[['number_correct_lifetime', 'number_attempted_this_session',\\\n",
    "                                                                 'topic_ratio', 'number_in_topic', 'difficulty', 'time']].values, \n",
    "                                              df_experiment[['will_continue']].values,random_state=5)\n",
    "\n",
    "    clf = LogisticRegression(solver='lbfgs')\n",
    "    # Fit the model on the trainng data.\n",
    "    clf.fit(Xlr, ylr)\n",
    "    filename = directory+'/model.sav'\n",
    "    pickle.dump(clf, open(filename, 'wb'))\n",
    "    # Print the accuracy from the testing data.\n",
    "    print(accuracy_score(clf.predict(Xtestlr), ytestlr))\n",
    "    #experiment long variables\n",
    "    data_lines = ['number_correct_lifetime,number_attempted_this_session,topic_ratio,number_in_topic,difficulty,time,will_continue']\n",
    "    tries = []\n",
    "    #make problems\n",
    "    problems = {}\n",
    "    problem_keys = []\n",
    "    df_problems = pd.read_csv(directory+'/problem_data.csv')\n",
    "    for index, row in df_problems.iterrows():\n",
    "        problem_id = df_problems.iloc[index][0]\n",
    "        unit = df_problems.iloc[index][1]\n",
    "        topic = df_problems.iloc[index][2]\n",
    "        difficulty = df_problems.iloc[index][3]/2\n",
    "        problems[(unit,topic,problem_id)] = Problem(unit,topic,difficulty)\n",
    "        problem_keys.append((unit,topic,problem_id))\n",
    "    problem_keys.sort()\n",
    "    #make students\n",
    "    num_of_students = 1000\n",
    "    students = {}\n",
    "    student_profiles = {}\n",
    "    while len(students) < num_of_students:\n",
    "        email = email_creator()\n",
    "        user_name = user_name_creator()\n",
    "        real_name = real_name_creator()\n",
    "        password = password_creator()\n",
    "        if not email in students.keys():\n",
    "            students[email] = Student(email)\n",
    "            student_profiles[email] = Student_Profile(real_name, user_name, password, email)\n",
    "    #simulate sessions\n",
    "    num_of_sessions = 5000\n",
    "    for session in tqdm(range(num_of_sessions)):\n",
    "        email = np.random.choice(list(students.keys()))\n",
    "        number_correct = student_profiles[email].number_correct\n",
    "        time = 0\n",
    "        students[email].frustration = 0\n",
    "        will_continue = True\n",
    "        number_attempted_this_session = 0\n",
    "        while will_continue:\n",
    "            number_correct = student_profiles[email].number_correct\n",
    "            number_attempted_this_session += 1\n",
    "            if number_correct<3:\n",
    "                problem_index = random.randint(0,2)\n",
    "            else:\n",
    "                problem_indices = []\n",
    "                while len(problem_indices)<3:\n",
    "                    index = problem_index_getter(number_correct)\n",
    "                    if index not in problem_indices:\n",
    "                        problem_indices.append(index)\n",
    "                problem_index = problem_indices[0]\n",
    "                best_score = -np.inf\n",
    "                for index in problem_indices:\n",
    "                    key = str(problem_keys[index][0])+'.'+str(problem_keys[index][1])\n",
    "                    if student_profiles[email].scores.get(key,[0,0]) == [0,0]:\n",
    "                        student_profiles[email].scores[key] = [0,0]\n",
    "                        topic_ratio = 0\n",
    "                    else:\n",
    "                        topic_ratio = student_profiles[email].scores[key][1]/student_profiles[email].scores[key][0]\n",
    "                    number_in_topic=student_profiles[email].scores[key][0]\n",
    "                    test_df = pd.DataFrame(columns=df_experiment.columns.drop('will_continue'))\n",
    "                    difficulty = problems[problem_keys[index]].difficulty\n",
    "                    test_df = test_df.append({'number_correct_lifetime':number_correct, \\\n",
    "                        'number_attempted_this_session':number_attempted_this_session,\\\n",
    "                        'topic_ratio':topic_ratio, 'number_in_topic':number_in_topic, 'difficulty':difficulty,\\\n",
    "                        'time':time}, ignore_index=True)\n",
    "                    test_score = clf.predict_proba(test_df)[0][1]\n",
    "                    if test_score > best_score:\n",
    "                        problem_index = index\n",
    "                        best_score = test_score\n",
    "            unit = str(problem_keys[problem_index][0])\n",
    "            key = str(problem_keys[problem_index][0])+'.'+str(problem_keys[problem_index][1])\n",
    "            problem_id = problem_keys[problem_index][2]\n",
    "            if not key in student_profiles[email].scores.keys():\n",
    "                student_profiles[email].scores[key] = [0,0]\n",
    "            correct = students[email].answer_problem(problems[problem_keys[problem_index]])\n",
    "            student_profiles[email].scores[key][0] += 1\n",
    "            student_profiles[email].scores[key][1] += int(correct)\n",
    "            student_profiles[email].number_correct += int(correct)\n",
    "            students[email].problem_update(correct,problems[problem_keys[problem_index]])\n",
    "            problems[problem_keys[problem_index]].difficulty = problems[problem_keys[problem_index]].difficulty\\\n",
    "                        *999/1000 - int(correct)/1000\n",
    "            time += 60+20*(logistic(students[email].intelligence)*logistic(students[email].motivation))**0.5\n",
    "            will_continue = students[email].will_continue(time)\n",
    "            data_line = str(student_profiles[email].number_correct)+','+str(number_attempted_this_session)+','\\\n",
    "                        +str(student_profiles[email].scores[key][1]/student_profiles[email].scores[key][0])+','\\\n",
    "                        +str(student_profiles[email].scores[key][0])+','\\\n",
    "                        +str(problems[problem_keys[problem_index]].difficulty)+','+str(time)+','+str(int(will_continue))\n",
    "            data_lines.append(data_line)\n",
    "        tries.append(str(number_attempted_this_session))\n",
    "    file = open(directory+'/experiment_simulation.csv','w+')\n",
    "    file.write('\\n'.join(data_lines))\n",
    "    file.close()\n",
    "    file = open(directory+'/tries_simulation.csv','w+')\n",
    "    file.write('\\n'.join(tries))\n",
    "    file.close()"
   ]
  },
  {
   "cell_type": "code",
   "execution_count": 140,
   "metadata": {},
   "outputs": [
    {
     "data": {
      "application/vnd.jupyter.widget-view+json": {
       "model_id": "4c383a7012434dee9f53ddd4ca6657ce",
       "version_major": 2,
       "version_minor": 0
      },
      "text/plain": [
       "HBox(children=(IntProgress(value=0, max=5000), HTML(value='')))"
      ]
     },
     "metadata": {},
     "output_type": "display_data"
    },
    {
     "name": "stdout",
     "output_type": "stream",
     "text": [
      "\n"
     ]
    }
   ],
   "source": [
    "data_maker()"
   ]
  },
  {
   "cell_type": "code",
   "execution_count": 147,
   "metadata": {},
   "outputs": [
    {
     "name": "stdout",
     "output_type": "stream",
     "text": [
      "0.6559520566603105\n"
     ]
    },
    {
     "data": {
      "application/vnd.jupyter.widget-view+json": {
       "model_id": "98716616cc9f4938b5d0876c4b7bc546",
       "version_major": 2,
       "version_minor": 0
      },
      "text/plain": [
       "HBox(children=(IntProgress(value=0, max=5000), HTML(value='')))"
      ]
     },
     "metadata": {},
     "output_type": "display_data"
    },
    {
     "name": "stdout",
     "output_type": "stream",
     "text": [
      "\n"
     ]
    }
   ],
   "source": [
    "simulation()"
   ]
  },
  {
   "cell_type": "markdown",
   "metadata": {},
   "source": [
    "<h1>Graph Makers</h1>"
   ]
  },
  {
   "cell_type": "code",
   "execution_count": 142,
   "metadata": {},
   "outputs": [],
   "source": [
    "def just_make_a_graph(tries, title):\n",
    "    print('probability of quitting after one problem',tries.count(1)/len(tries))\n",
    "    print('mean tries problem',sum(tries)/len(tries))\n",
    "    plt.hist(tries,bins=12)\n",
    "    plt.title(title)\n",
    "    plt.xlabel('Tries')\n",
    "    plt.ylabel('Occurences')\n",
    "    plt.show()"
   ]
  },
  {
   "cell_type": "code",
   "execution_count": 143,
   "metadata": {},
   "outputs": [
    {
     "name": "stdout",
     "output_type": "stream",
     "text": [
      "probability of quitting after one problem 0.3514\n",
      "mean tries problem 3.0522\n"
     ]
    },
    {
     "data": {
      "image/png": "[encoded data removed]",
      "text/plain": [
       "<Figure size 432x288 with 1 Axes>"
      ]
     },
     "metadata": {
      "needs_background": "light"
     },
     "output_type": "display_data"
    }
   ],
   "source": [
    "file = open(directory+'/tries_simulation.csv')\n",
    "data = [int(tries) for tries in file.read().split('\\n')]\n",
    "file.close()\n",
    "just_make_a_graph(data,'Only 1 Try With Random Problems Given')"
   ]
  },
  {
   "cell_type": "code",
   "execution_count": 144,
   "metadata": {},
   "outputs": [
    {
     "name": "stdout",
     "output_type": "stream",
     "text": [
      "probability of quitting after one problem 0.3842\n",
      "mean tries problem 2.9364\n"
     ]
    },
    {
     "data": {
      "image/png": "[encoded data removed]",
      "text/plain": [
       "<Figure size 432x288 with 1 Axes>"
      ]
     },
     "metadata": {
      "needs_background": "light"
     },
     "output_type": "display_data"
    }
   ],
   "source": [
    "file = open(directory+'/tries.csv')\n",
    "data_simulation = [int(tries) for tries in file.read().split('\\n')]\n",
    "file.close()\n",
    "just_make_a_graph(data_simulation,'Only 1 Try With Machine Learning Problems Given')"
   ]
  },
  {
   "cell_type": "code",
   "execution_count": 145,
   "metadata": {},
   "outputs": [
    {
     "data": {
      "application/vnd.jupyter.widget-view+json": {
       "model_id": "8b60da771b9e473b9818f6959c468ad0",
       "version_major": 2,
       "version_minor": 0
      },
      "text/plain": [
       "HBox(children=(IntProgress(value=0, max=10000), HTML(value='')))"
      ]
     },
     "metadata": {},
     "output_type": "display_data"
    },
    {
     "name": "stdout",
     "output_type": "stream",
     "text": [
      "\n",
      "p = 0.0015\n"
     ]
    }
   ],
   "source": [
    "total_data = data+data_simulation\n",
    "data_mean = np.mean(data)\n",
    "data_simulation_mean = np.mean(data_simulation)\n",
    "size = int(len(total_data)/2)\n",
    "trials = 10**4\n",
    "mean_diffs=np.empty(trials)\n",
    "for trial in tqdm(range(trials)):\n",
    "    sample_1 = np.random.choice(total_data,size,replace=True)\n",
    "    sample_2 = np.random.choice(total_data,size,replace=True)\n",
    "    mean_diffs[trial] = np.mean(sample_1)-np.mean(sample_2)\n",
    "p=np.sum(mean_diffs >= data_mean-data_simulation_mean)\n",
    "print('p =',p/trials)"
   ]
  },
  {
   "cell_type": "code",
   "execution_count": null,
   "metadata": {},
   "outputs": [],
   "source": []
  }
 ],
 "metadata": {
  "kernelspec": {
   "display_name": "Python 3",
   "language": "python",
   "name": "python3"
  },
  "language_info": {
   "codemirror_mode": {
    "name": "ipython",
    "version": 3
   },
   "file_extension": ".py",
   "mimetype": "text/x-python",
   "name": "python",
   "nbconvert_exporter": "python",
   "pygments_lexer": "ipython3",
   "version": "3.7.4"
  }
 },
 "nbformat": 4,
 "nbformat_minor": 2
}
